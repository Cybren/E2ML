{
 "cells": [
  {
   "attachments": {},
   "cell_type": "markdown",
   "metadata": {},
   "source": [
    "# Classic Design of Experiments I"
   ]
  },
  {
   "attachments": {},
   "cell_type": "markdown",
   "metadata": {},
   "source": [
    "In this notebook, we will learn about the basics of the classic design of experiments.\n",
    "\n",
    "We start with an empirical analysis of **Hotelling's experiment** and end with a comparison of the **OFAT** and an **own DoE method**.\n",
    "\n",
    "### **Table of Contents**\n",
    "1. [Hottelling's Experiment](#hotelling-experiment)\n",
    "2. [One-factor-at-a-time Method](#one-factor-at-time-method)\n",
    "3. [Own Idea of a DoE Method](#own-idea-of-a-doe-method)"
   ]
  },
  {
   "cell_type": "code",
   "execution_count": 5,
   "metadata": {
    "ExecuteTime": {
     "end_time": "2023-05-18T20:00:59.331249811Z",
     "start_time": "2023-05-18T20:00:59.280503408Z"
    }
   },
   "outputs": [
    {
     "name": "stdout",
     "output_type": "stream",
     "text": [
      "The autoreload extension is already loaded. To reload it, use:\n",
      "  %reload_ext autoreload\n"
     ]
    }
   ],
   "source": [
    "%load_ext autoreload\n",
    "%autoreload 2\n",
    "\n",
    "import numpy as np\n",
    "import matplotlib.pyplot as plt\n",
    "\n",
    "from e2ml.experimentation import (\n",
    "    get_hotellings_experiment_measurements,\n",
    "    get_hotellings_experiment_errors,\n",
    "    black_box_data_generation,\n",
    ")"
   ]
  },
  {
   "attachments": {},
   "cell_type": "markdown",
   "metadata": {},
   "source": [
    "### **1. Hotelling's Experiment** <a class=\"anchor\" id=\"hotelling-experiment\"></a>\n",
    "This section empirically studies Hotelling's experiment extended to 16 objects. In the first step, we create the corresponding design/factor matrices for the OFAT and combinatorial method."
   ]
  },
  {
   "cell_type": "code",
   "execution_count": 9,
   "metadata": {
    "ExecuteTime": {
     "end_time": "2023-05-18T20:01:10.162982308Z",
     "start_time": "2023-05-18T20:01:10.109583847Z"
    }
   },
   "outputs": [
    {
     "name": "stdout",
     "output_type": "stream",
     "text": [
      "[[ 1.  1.  1.  1.  1.  1.  1.  1.  1.  1.  1.  1.  1.  1.  1.  1.]\n",
      " [ 1. -1.  1. -1.  1. -1.  1. -1.  1. -1.  1. -1.  1. -1.  1. -1.]\n",
      " [ 1.  1. -1. -1.  1.  1. -1. -1.  1.  1. -1. -1.  1.  1. -1. -1.]\n",
      " [ 1. -1. -1.  1.  1. -1. -1.  1.  1. -1. -1.  1.  1. -1. -1.  1.]\n",
      " [ 1.  1.  1.  1. -1. -1. -1. -1.  1.  1.  1.  1. -1. -1. -1. -1.]\n",
      " [ 1. -1.  1. -1. -1.  1. -1.  1.  1. -1.  1. -1. -1.  1. -1.  1.]\n",
      " [ 1.  1. -1. -1. -1. -1.  1.  1.  1.  1. -1. -1. -1. -1.  1.  1.]\n",
      " [ 1. -1. -1.  1. -1.  1.  1. -1.  1. -1. -1.  1. -1.  1.  1. -1.]\n",
      " [ 1.  1.  1.  1.  1.  1.  1.  1. -1. -1. -1. -1. -1. -1. -1. -1.]\n",
      " [ 1. -1.  1. -1.  1. -1.  1. -1. -1.  1. -1.  1. -1.  1. -1.  1.]\n",
      " [ 1.  1. -1. -1.  1.  1. -1. -1. -1. -1.  1.  1. -1. -1.  1.  1.]\n",
      " [ 1. -1. -1.  1.  1. -1. -1.  1. -1.  1.  1. -1. -1.  1.  1. -1.]\n",
      " [ 1.  1.  1.  1. -1. -1. -1. -1. -1. -1. -1. -1.  1.  1.  1.  1.]\n",
      " [ 1. -1.  1. -1. -1.  1. -1.  1. -1.  1. -1.  1.  1. -1.  1. -1.]\n",
      " [ 1.  1. -1. -1. -1. -1.  1.  1. -1. -1.  1.  1.  1.  1. -1. -1.]\n",
      " [ 1. -1. -1.  1. -1.  1.  1. -1. -1.  1.  1. -1.  1. -1. -1.  1.]]\n"
     ]
    }
   ],
   "source": [
    "# Create Hadamard `X_hadamard` and identity matrix `X_identity`.\n",
    "X_identity = np.eye(16)\n",
    "X_hadamard = np.array([[1,1], [1,-1]])\n",
    "size = 2\n",
    "for _ in range(3):\n",
    "    size *= 2\n",
    "    new_hadamard = np.ndarray((size,size))\n",
    "    new_hadamard[:size//2,:size//2] = X_hadamard\n",
    "    new_hadamard[size//2:,:size//2] = X_hadamard\n",
    "    new_hadamard[:size//2,size//2:] = X_hadamard\n",
    "    new_hadamard[size//2:,size//2:] = -X_hadamard\n",
    "    X_hadamard = new_hadamard\n",
    "print(X_hadamard)\n"
   ]
  },
  {
   "attachments": {},
   "cell_type": "markdown",
   "metadata": {},
   "source": [
    "Next, we implement a function to estimate the object weights from the experimental results obtained after executing the experimental trials according to a given design matrix."
   ]
  },
  {
   "cell_type": "code",
   "execution_count": 11,
   "metadata": {
    "ExecuteTime": {
     "end_time": "2023-05-18T20:01:11.041348594Z",
     "start_time": "2023-05-18T20:01:11.001308694Z"
    }
   },
   "outputs": [],
   "source": [
    "def estimate_object_weights(X, y):\n",
    "    \"\"\"\n",
    "    Gets a design matrix of object configurations and corresponding measurements as inputs\n",
    "    to estimate the object weights.\n",
    "\n",
    "    Parameters\n",
    "    ----------\n",
    "    X : numpy.ndarray of shape (16, 16)\n",
    "        Design matrix of object configurations.\n",
    "    y : numpy.ndarray of shape (16,)\n",
    "        Measurements.\n",
    "\n",
    "    Returns\n",
    "    -------\n",
    "    theta_hat : numpy.ndarray of shape (16,)\n",
    "        Estimate object weights.\n",
    "    \"\"\"\n",
    "    return np.linalg.inv(X) @ y\n"
   ]
  },
  {
   "attachments": {},
   "cell_type": "markdown",
   "metadata": {},
   "source": [
    "As the final step, we replicate the experiments for the OFAT and combinatorial method to estimate the expected sum of squared differences between true object and estimated object weights according to:\n",
    "\n",
    "Ja, mit $\\mathbf{E}$ und dann halt der Durchschnitt. $||\\theta - \\theta_{hat}||^2_2 = ||\\mathbf{X}^{-1}\\mathbf{\\mu}- \\mathbf{X}^{-1}\\mathbf{y}||^2_2$\n"
   ]
  },
  {
   "cell_type": "code",
   "execution_count": 12,
   "metadata": {
    "ExecuteTime": {
     "end_time": "2023-05-18T20:01:31.448350066Z",
     "start_time": "2023-05-18T20:01:27.814084317Z"
    }
   },
   "outputs": [],
   "source": [
    "# Replicate the experiment 10,000 times for both design matrices\n",
    "# to visualize the error distribution of the estimated weights via a histogram\n",
    "# and compute the empirical mean of the sum of squared differences.\n",
    "n_reps = 10000\n",
    "errors_hadamard = np.zeros(n_reps)\n",
    "errors_identitity = np.zeros(n_reps)\n",
    "thetas_hadamard = []\n",
    "thetas_identity = []\n",
    "\n",
    "for rep in range(n_reps):\n",
    "    y_hadamard = get_hotellings_experiment_measurements(X_hadamard)\n",
    "    y_identity = get_hotellings_experiment_measurements(X_identity)\n",
    "    theta_hat_hadamard = estimate_object_weights(X_hadamard, y_hadamard)\n",
    "    theta_hat_identity = estimate_object_weights(X_identity, y_identity)\n",
    "    errors_hadamard[rep] = get_hotellings_experiment_errors(theta_hat_hadamard)\n",
    "    errors_identitity[rep] = get_hotellings_experiment_errors(theta_hat_identity)\n",
    "    thetas_hadamard.append(theta_hat_hadamard)\n",
    "    thetas_identity.append(theta_hat_identity)"
   ]
  },
  {
   "cell_type": "code",
   "execution_count": 13,
   "metadata": {},
   "outputs": [
    {
     "data": {
      "image/png": "[encoded data removed]",
      "text/plain": [
       "<Figure size 1000x900 with 1 Axes>"
      ]
     },
     "metadata": {},
     "output_type": "display_data"
    }
   ],
   "source": [
    "plt.figure(figsize=(10,9))\n",
    "plt.title(\"Hadamard: {}, Identity: {}\".format(errors_hadamard.mean().round(2), errors_identitity.mean().round(2)))\n",
    "plt.hist(errors_hadamard, bins=100, label=\"hadamard\", alpha=0.5)\n",
    "plt.hist(errors_identitity, bins=100, label=\"identity\", alpha=0.5)#\n",
    "plt.legend()\n",
    "plt.show()"
   ]
  },
  {
   "attachments": {},
   "cell_type": "markdown",
   "metadata": {},
   "source": [
    "#### **Question:**\n",
    "1. (a) What are the expected sums of squared differences between estimated and true object weights for the OFAT and combinatorial method in the case of 16 objects?\n",
    "\n",
    "   Sum of variances is 1 for identity and we sum over 16 so its about 16 and for the hadamard its variance is 1/16 and sum over 16, so we get 1\n",
    "   \n",
    "### **2. One-factor-at-a-time Method** <a class=\"anchor\" id=\"one-factor-at-time-method\"></a>\n",
    "Now, we implement the standard OFAT method for multiple factors and levels. Therefore, we consider the factors $x_1, \\dots, x_D$, where each factor has a finite number of levels, i.e., $x_d \\in \\{0, \\dots, L_d-1\\}, L_d \\in \\mathbb{N}_{>0}, d \\in \\{1, \\dots, D\\}$, where $x_1 = \\dots = x_D = 0$ is defined as standard condition without loss of generality.\n",
    "\n",
    "2. (a) How many conditions, i.e., the number of rows in the design matrix, will be generated by a standard OFAT method at maximum?\n",
    "\n",
    "   $\\sum_d (L_d) - D$ \n",
    "   \n",
    "We need to implement the corresponding function [`one_factor_at_a_time`](../e2ml/experimentation/_one_factor_at_a_time.py) in the [`e2ml.experimentation`](../e2ml/experimentation) subpackage.\n",
    "Once, the implementation has been completed, we check our implementation's validity. "
   ]
  },
  {
   "cell_type": "code",
   "execution_count": 20,
   "metadata": {
    "ExecuteTime": {
     "end_time": "2023-05-18T13:59:40.725345268Z",
     "start_time": "2023-05-18T13:59:40.681267969Z"
    }
   },
   "outputs": [
    {
     "name": "stdout",
     "output_type": "stream",
     "text": [
      "[[0. 0. 0.]\n",
      " [1. 0. 0.]\n",
      " [0. 1. 0.]\n",
      " [0. 2. 0.]\n",
      " [0. 0. 1.]\n",
      " [0. 0. 2.]\n",
      " [0. 0. 3.]]\n"
     ]
    }
   ],
   "source": [
    "from e2ml.experimentation import one_factor_at_a_time\n",
    "\n",
    "levels = [2, 3, 4]\n",
    "\n",
    "# Obtain the design matrix `X` for the given levels.\n",
    "X = one_factor_at_a_time(levels)\n",
    "print(X)\n",
    "\n",
    "assert X.shape[0] == 7, \"The number of conditions is wrong.\"\n",
    "assert X.shape[1] == 3, \"The number of factors is wrong.\"\n",
    "assert ~(((X > 0).sum(axis=-1) > 1).any()), \"There is one row with more than one change factor.\"\n",
    "for l_idx, l in enumerate(levels):\n",
    "    assert np.array_equal(np.unique(X[:, l_idx]), np.arange(l)), f\"No all levels were tested of factor {l_idx}.\""
   ]
  },
  {
   "attachments": {},
   "cell_type": "markdown",
   "metadata": {},
   "source": [
    "Once we have implemented and tested our OFAT function, we apply it to a black-box experiment via the function `black_box_data_generation`. In total, there are\n",
    "$D=4$ factors with $L_1 = 20, L_2 = 4, L_3 = 20, L_4 = 5$. For these factors, we generate a design matrix $\\mathbf{X}$ according to a full OFAT method and obtain the corresponding measurements. The goal is to find a condition maximizing the response of the experiment."
   ]
  },
  {
   "cell_type": "code",
   "execution_count": 23,
   "metadata": {
    "ExecuteTime": {
     "end_time": "2023-05-18T13:17:21.067616957Z",
     "start_time": "2023-05-18T13:17:21.025042811Z"
    }
   },
   "outputs": [
    {
     "data": {
      "image/png": "[encoded data removed]",
      "text/plain": [
       "<Figure size 1000x1000 with 1 Axes>"
      ]
     },
     "metadata": {},
     "output_type": "display_data"
    },
    {
     "name": "stdout",
     "output_type": "stream",
     "text": [
      "[5 0 0 0] is best result at score 0.8\n"
     ]
    }
   ],
   "source": [
    "# Generate levels according to the black-box experiment\n",
    "levels = [20,4,20,5]\n",
    "\n",
    "# Obtain the design matrix `X` for the given levels.\n",
    "X = one_factor_at_a_time(levels)\n",
    "\n",
    "# Perform experimental trials for the given matrix `X` and save the results `res`.\n",
    "res = black_box_data_generation(X)\n",
    "\n",
    "# Plot the obtained results as a histogram.\n",
    "plt.figure(figsize=(10,10))\n",
    "plt.hist(res)\n",
    "plt.show()\n",
    "\n",
    "# Print the best condition and its maximum score.\n",
    "idx_max = res.argmax()\n",
    "best_res = X[idx_max]\n",
    "best_score = res[idx_max]\n",
    "print(f\"{best_res} is best result at score {best_score}\")"
   ]
  },
  {
   "attachments": {},
   "cell_type": "markdown",
   "metadata": {},
   "source": [
    "### **3. Own Idea of a DoE Method** <a class=\"anchor\" id=\"own-idea-of-a-doe-method\"></a>\n",
    "A substantial disadvantage of the OFAT method is that it ignores any interactions between varying levels of factors. Therefore, we aim to implement an own DoE method `own_doe_method`, which advances the OFAT method. The DOE method should allow restricting the number of conditions to a user-defined value. Implement and compare your method with the results of OFAT, when using the same number of experimental trials."
   ]
  },
  {
   "cell_type": "code",
   "execution_count": null,
   "metadata": {
    "ExecuteTime": {
     "end_time": "2023-05-18T11:34:40.692768970Z",
     "start_time": "2023-05-18T11:34:40.468438647Z"
    }
   },
   "outputs": [],
   "source": [
    "# Implement `own_doe_method` taking `levels` as input.\n",
    "# TODO\n",
    "\n",
    "# Obtain the design matrix `X` for the given levels.\n",
    "# TODO\n",
    "\n",
    "# Perform experimental trials for the given matrix `X` and save the results `res`.\n",
    "# TODO\n",
    "\n",
    "# Plot the obtained results as a histogram.\n",
    "# TODO\n",
    "\n",
    "# Print the best condition and its maximum score.\n",
    "# TODO\n"
   ]
  }
 ],
 "metadata": {
  "kernelspec": {
   "display_name": "Python 3 (ipykernel)",
   "language": "python",
   "name": "python3"
  },
  "language_info": {
   "codemirror_mode": {
    "name": "ipython",
    "version": 3
   },
   "file_extension": ".py",
   "mimetype": "text/x-python",
   "name": "python",
   "nbconvert_exporter": "python",
   "pygments_lexer": "ipython3",
   "version": "3.9.16"
  }
 },
 "nbformat": 4,
 "nbformat_minor": 4
}
